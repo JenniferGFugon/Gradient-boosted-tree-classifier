{
 "cells": [
  {
   "cell_type": "code",
   "execution_count": 1,
   "id": "2522aed2",
   "metadata": {},
   "outputs": [],
   "source": [
    "from pyspark.sql import SparkSession "
   ]
  },
  {
   "cell_type": "code",
   "execution_count": 2,
   "id": "fc9b26b1",
   "metadata": {},
   "outputs": [
    {
     "name": "stderr",
     "output_type": "stream",
     "text": [
      "21/12/06 19:27:37 WARN Utils: Your hostname, linda-Tete resolves to a loopback address: 127.0.1.1; using 10.0.2.15 instead (on interface enp0s3)\n",
      "21/12/06 19:27:37 WARN Utils: Set SPARK_LOCAL_IP if you need to bind to another address\n",
      "WARNING: An illegal reflective access operation has occurred\n",
      "WARNING: Illegal reflective access by org.apache.spark.unsafe.Platform (file:/home/linda/.local/lib/python3.8/site-packages/pyspark/jars/spark-unsafe_2.12-3.1.2.jar) to constructor java.nio.DirectByteBuffer(long,int)\n",
      "WARNING: Please consider reporting this to the maintainers of org.apache.spark.unsafe.Platform\n",
      "WARNING: Use --illegal-access=warn to enable warnings of further illegal reflective access operations\n",
      "WARNING: All illegal access operations will be denied in a future release\n",
      "21/12/06 19:27:38 WARN NativeCodeLoader: Unable to load native-hadoop library for your platform... using builtin-java classes where applicable\n",
      "Using Spark's default log4j profile: org/apache/spark/log4j-defaults.properties\n",
      "Setting default log level to \"WARN\".\n",
      "To adjust logging level use sc.setLogLevel(newLevel). For SparkR, use setLogLevel(newLevel).\n"
     ]
    }
   ],
   "source": [
    "spark = SparkSession.builder.appName ('ml-heart'). getOrCreate() "
   ]
  },
  {
   "cell_type": "code",
   "execution_count": 3,
   "id": "05ac289e",
   "metadata": {},
   "outputs": [
    {
     "name": "stderr",
     "output_type": "stream",
     "text": [
      "\r",
      "[Stage 0:>                                                          (0 + 1) / 1]\r",
      "\r",
      "                                                                                \r"
     ]
    }
   ],
   "source": [
    "df = spark.read.csv ('heart_failure_clinical_records_dataset.csv', header = True, inferSchema = True) "
   ]
  },
  {
   "cell_type": "code",
   "execution_count": 4,
   "id": "bfa4a59a",
   "metadata": {},
   "outputs": [
    {
     "name": "stdout",
     "output_type": "stream",
     "text": [
      "root\n",
      " |-- age: double (nullable = true)\n",
      " |-- anaemia: integer (nullable = true)\n",
      " |-- creatinine_phosphokinase: integer (nullable = true)\n",
      " |-- diabetes: integer (nullable = true)\n",
      " |-- ejection_fraction: integer (nullable = true)\n",
      " |-- high_blood_pressure: integer (nullable = true)\n",
      " |-- platelets: double (nullable = true)\n",
      " |-- serum_creatinine: double (nullable = true)\n",
      " |-- serum_sodium: integer (nullable = true)\n",
      " |-- sex: integer (nullable = true)\n",
      " |-- smoking: integer (nullable = true)\n",
      " |-- time: integer (nullable = true)\n",
      " |-- DEATH_EVENT: integer (nullable = true)\n",
      "\n"
     ]
    }
   ],
   "source": [
    "df.printSchema()"
   ]
  },
  {
   "cell_type": "code",
   "execution_count": 5,
   "id": "f8336577",
   "metadata": {},
   "outputs": [],
   "source": [
    "import pandas as pd "
   ]
  },
  {
   "cell_type": "code",
   "execution_count": 6,
   "id": "cd99de2c",
   "metadata": {},
   "outputs": [
    {
     "data": {
      "text/html": [
       "<div>\n",
       "<style scoped>\n",
       "    .dataframe tbody tr th:only-of-type {\n",
       "        vertical-align: middle;\n",
       "    }\n",
       "\n",
       "    .dataframe tbody tr th {\n",
       "        vertical-align: top;\n",
       "    }\n",
       "\n",
       "    .dataframe thead th {\n",
       "        text-align: right;\n",
       "    }\n",
       "</style>\n",
       "<table border=\"1\" class=\"dataframe\">\n",
       "  <thead>\n",
       "    <tr style=\"text-align: right;\">\n",
       "      <th></th>\n",
       "      <th>0</th>\n",
       "      <th>1</th>\n",
       "      <th>2</th>\n",
       "      <th>3</th>\n",
       "      <th>4</th>\n",
       "    </tr>\n",
       "  </thead>\n",
       "  <tbody>\n",
       "    <tr>\n",
       "      <th>age</th>\n",
       "      <td>75.0</td>\n",
       "      <td>55.00</td>\n",
       "      <td>65.0</td>\n",
       "      <td>50.0</td>\n",
       "      <td>65.0</td>\n",
       "    </tr>\n",
       "    <tr>\n",
       "      <th>anaemia</th>\n",
       "      <td>0.0</td>\n",
       "      <td>0.00</td>\n",
       "      <td>0.0</td>\n",
       "      <td>1.0</td>\n",
       "      <td>1.0</td>\n",
       "    </tr>\n",
       "    <tr>\n",
       "      <th>creatinine_phosphokinase</th>\n",
       "      <td>582.0</td>\n",
       "      <td>7861.00</td>\n",
       "      <td>146.0</td>\n",
       "      <td>111.0</td>\n",
       "      <td>160.0</td>\n",
       "    </tr>\n",
       "    <tr>\n",
       "      <th>diabetes</th>\n",
       "      <td>0.0</td>\n",
       "      <td>0.00</td>\n",
       "      <td>0.0</td>\n",
       "      <td>0.0</td>\n",
       "      <td>1.0</td>\n",
       "    </tr>\n",
       "    <tr>\n",
       "      <th>ejection_fraction</th>\n",
       "      <td>20.0</td>\n",
       "      <td>38.00</td>\n",
       "      <td>20.0</td>\n",
       "      <td>20.0</td>\n",
       "      <td>20.0</td>\n",
       "    </tr>\n",
       "    <tr>\n",
       "      <th>high_blood_pressure</th>\n",
       "      <td>1.0</td>\n",
       "      <td>0.00</td>\n",
       "      <td>0.0</td>\n",
       "      <td>0.0</td>\n",
       "      <td>0.0</td>\n",
       "    </tr>\n",
       "    <tr>\n",
       "      <th>platelets</th>\n",
       "      <td>265000.0</td>\n",
       "      <td>263358.03</td>\n",
       "      <td>162000.0</td>\n",
       "      <td>210000.0</td>\n",
       "      <td>327000.0</td>\n",
       "    </tr>\n",
       "    <tr>\n",
       "      <th>serum_creatinine</th>\n",
       "      <td>1.9</td>\n",
       "      <td>1.10</td>\n",
       "      <td>1.3</td>\n",
       "      <td>1.9</td>\n",
       "      <td>2.7</td>\n",
       "    </tr>\n",
       "    <tr>\n",
       "      <th>serum_sodium</th>\n",
       "      <td>130.0</td>\n",
       "      <td>136.00</td>\n",
       "      <td>129.0</td>\n",
       "      <td>137.0</td>\n",
       "      <td>116.0</td>\n",
       "    </tr>\n",
       "    <tr>\n",
       "      <th>sex</th>\n",
       "      <td>1.0</td>\n",
       "      <td>1.00</td>\n",
       "      <td>1.0</td>\n",
       "      <td>1.0</td>\n",
       "      <td>0.0</td>\n",
       "    </tr>\n",
       "    <tr>\n",
       "      <th>smoking</th>\n",
       "      <td>0.0</td>\n",
       "      <td>0.00</td>\n",
       "      <td>1.0</td>\n",
       "      <td>0.0</td>\n",
       "      <td>0.0</td>\n",
       "    </tr>\n",
       "    <tr>\n",
       "      <th>time</th>\n",
       "      <td>4.0</td>\n",
       "      <td>6.00</td>\n",
       "      <td>7.0</td>\n",
       "      <td>7.0</td>\n",
       "      <td>8.0</td>\n",
       "    </tr>\n",
       "    <tr>\n",
       "      <th>DEATH_EVENT</th>\n",
       "      <td>1.0</td>\n",
       "      <td>1.00</td>\n",
       "      <td>1.0</td>\n",
       "      <td>1.0</td>\n",
       "      <td>1.0</td>\n",
       "    </tr>\n",
       "  </tbody>\n",
       "</table>\n",
       "</div>"
      ],
      "text/plain": [
       "                                 0          1         2         3         4\n",
       "age                           75.0      55.00      65.0      50.0      65.0\n",
       "anaemia                        0.0       0.00       0.0       1.0       1.0\n",
       "creatinine_phosphokinase     582.0    7861.00     146.0     111.0     160.0\n",
       "diabetes                       0.0       0.00       0.0       0.0       1.0\n",
       "ejection_fraction             20.0      38.00      20.0      20.0      20.0\n",
       "high_blood_pressure            1.0       0.00       0.0       0.0       0.0\n",
       "platelets                 265000.0  263358.03  162000.0  210000.0  327000.0\n",
       "serum_creatinine               1.9       1.10       1.3       1.9       2.7\n",
       "serum_sodium                 130.0     136.00     129.0     137.0     116.0\n",
       "sex                            1.0       1.00       1.0       1.0       0.0\n",
       "smoking                        0.0       0.00       1.0       0.0       0.0\n",
       "time                           4.0       6.00       7.0       7.0       8.0\n",
       "DEATH_EVENT                    1.0       1.00       1.0       1.0       1.0"
      ]
     },
     "execution_count": 6,
     "metadata": {},
     "output_type": "execute_result"
    }
   ],
   "source": [
    "pd.DataFrame(df.take(5), columns = df.columns) .transpose()"
   ]
  },
  {
   "cell_type": "code",
   "execution_count": 7,
   "id": "12fe3cd1",
   "metadata": {},
   "outputs": [],
   "source": [
    "numeric_features = [t[0] for t in df.dtypes if t[1] == 'int' or t[1] == 'double']"
   ]
  },
  {
   "cell_type": "code",
   "execution_count": 8,
   "id": "f2ad7ff7",
   "metadata": {},
   "outputs": [
    {
     "name": "stderr",
     "output_type": "stream",
     "text": [
      "                                                                                \r"
     ]
    },
    {
     "data": {
      "text/html": [
       "<div>\n",
       "<style scoped>\n",
       "    .dataframe tbody tr th:only-of-type {\n",
       "        vertical-align: middle;\n",
       "    }\n",
       "\n",
       "    .dataframe tbody tr th {\n",
       "        vertical-align: top;\n",
       "    }\n",
       "\n",
       "    .dataframe thead th {\n",
       "        text-align: right;\n",
       "    }\n",
       "</style>\n",
       "<table border=\"1\" class=\"dataframe\">\n",
       "  <thead>\n",
       "    <tr style=\"text-align: right;\">\n",
       "      <th></th>\n",
       "      <th>0</th>\n",
       "      <th>1</th>\n",
       "      <th>2</th>\n",
       "      <th>3</th>\n",
       "      <th>4</th>\n",
       "    </tr>\n",
       "  </thead>\n",
       "  <tbody>\n",
       "    <tr>\n",
       "      <th>summary</th>\n",
       "      <td>count</td>\n",
       "      <td>mean</td>\n",
       "      <td>stddev</td>\n",
       "      <td>min</td>\n",
       "      <td>max</td>\n",
       "    </tr>\n",
       "    <tr>\n",
       "      <th>age</th>\n",
       "      <td>299</td>\n",
       "      <td>60.83389297658862</td>\n",
       "      <td>11.894809074044469</td>\n",
       "      <td>40.0</td>\n",
       "      <td>95.0</td>\n",
       "    </tr>\n",
       "    <tr>\n",
       "      <th>anaemia</th>\n",
       "      <td>299</td>\n",
       "      <td>0.431438127090301</td>\n",
       "      <td>0.4961072681330795</td>\n",
       "      <td>0</td>\n",
       "      <td>1</td>\n",
       "    </tr>\n",
       "    <tr>\n",
       "      <th>creatinine_phosphokinase</th>\n",
       "      <td>299</td>\n",
       "      <td>581.8394648829432</td>\n",
       "      <td>970.2878807124358</td>\n",
       "      <td>23</td>\n",
       "      <td>7861</td>\n",
       "    </tr>\n",
       "    <tr>\n",
       "      <th>diabetes</th>\n",
       "      <td>299</td>\n",
       "      <td>0.4180602006688963</td>\n",
       "      <td>0.4940670651036091</td>\n",
       "      <td>0</td>\n",
       "      <td>1</td>\n",
       "    </tr>\n",
       "    <tr>\n",
       "      <th>ejection_fraction</th>\n",
       "      <td>299</td>\n",
       "      <td>38.08361204013378</td>\n",
       "      <td>11.834840741039168</td>\n",
       "      <td>14</td>\n",
       "      <td>80</td>\n",
       "    </tr>\n",
       "    <tr>\n",
       "      <th>high_blood_pressure</th>\n",
       "      <td>299</td>\n",
       "      <td>0.3511705685618729</td>\n",
       "      <td>0.4781363790627446</td>\n",
       "      <td>0</td>\n",
       "      <td>1</td>\n",
       "    </tr>\n",
       "    <tr>\n",
       "      <th>platelets</th>\n",
       "      <td>299</td>\n",
       "      <td>263358.02926421416</td>\n",
       "      <td>97804.2368685983</td>\n",
       "      <td>25100.0</td>\n",
       "      <td>850000.0</td>\n",
       "    </tr>\n",
       "    <tr>\n",
       "      <th>serum_creatinine</th>\n",
       "      <td>299</td>\n",
       "      <td>1.393879598662207</td>\n",
       "      <td>1.0345100640898544</td>\n",
       "      <td>0.5</td>\n",
       "      <td>9.4</td>\n",
       "    </tr>\n",
       "    <tr>\n",
       "      <th>serum_sodium</th>\n",
       "      <td>299</td>\n",
       "      <td>136.62541806020067</td>\n",
       "      <td>4.412477283909232</td>\n",
       "      <td>113</td>\n",
       "      <td>148</td>\n",
       "    </tr>\n",
       "    <tr>\n",
       "      <th>sex</th>\n",
       "      <td>299</td>\n",
       "      <td>0.6488294314381271</td>\n",
       "      <td>0.4781363790627448</td>\n",
       "      <td>0</td>\n",
       "      <td>1</td>\n",
       "    </tr>\n",
       "    <tr>\n",
       "      <th>smoking</th>\n",
       "      <td>299</td>\n",
       "      <td>0.3210702341137124</td>\n",
       "      <td>0.4676704280567715</td>\n",
       "      <td>0</td>\n",
       "      <td>1</td>\n",
       "    </tr>\n",
       "    <tr>\n",
       "      <th>time</th>\n",
       "      <td>299</td>\n",
       "      <td>130.2608695652174</td>\n",
       "      <td>77.61420795029336</td>\n",
       "      <td>4</td>\n",
       "      <td>285</td>\n",
       "    </tr>\n",
       "    <tr>\n",
       "      <th>DEATH_EVENT</th>\n",
       "      <td>299</td>\n",
       "      <td>0.3210702341137124</td>\n",
       "      <td>0.46767042805677195</td>\n",
       "      <td>0</td>\n",
       "      <td>1</td>\n",
       "    </tr>\n",
       "  </tbody>\n",
       "</table>\n",
       "</div>"
      ],
      "text/plain": [
       "                              0                   1                    2  \\\n",
       "summary                   count                mean               stddev   \n",
       "age                         299   60.83389297658862   11.894809074044469   \n",
       "anaemia                     299   0.431438127090301   0.4961072681330795   \n",
       "creatinine_phosphokinase    299   581.8394648829432    970.2878807124358   \n",
       "diabetes                    299  0.4180602006688963   0.4940670651036091   \n",
       "ejection_fraction           299   38.08361204013378   11.834840741039168   \n",
       "high_blood_pressure         299  0.3511705685618729   0.4781363790627446   \n",
       "platelets                   299  263358.02926421416     97804.2368685983   \n",
       "serum_creatinine            299   1.393879598662207   1.0345100640898544   \n",
       "serum_sodium                299  136.62541806020067    4.412477283909232   \n",
       "sex                         299  0.6488294314381271   0.4781363790627448   \n",
       "smoking                     299  0.3210702341137124   0.4676704280567715   \n",
       "time                        299   130.2608695652174    77.61420795029336   \n",
       "DEATH_EVENT                 299  0.3210702341137124  0.46767042805677195   \n",
       "\n",
       "                                3         4  \n",
       "summary                       min       max  \n",
       "age                          40.0      95.0  \n",
       "anaemia                         0         1  \n",
       "creatinine_phosphokinase       23      7861  \n",
       "diabetes                        0         1  \n",
       "ejection_fraction              14        80  \n",
       "high_blood_pressure             0         1  \n",
       "platelets                 25100.0  850000.0  \n",
       "serum_creatinine              0.5       9.4  \n",
       "serum_sodium                  113       148  \n",
       "sex                             0         1  \n",
       "smoking                         0         1  \n",
       "time                            4       285  \n",
       "DEATH_EVENT                     0         1  "
      ]
     },
     "execution_count": 8,
     "metadata": {},
     "output_type": "execute_result"
    }
   ],
   "source": [
    "df.select(numeric_features).describe().toPandas().transpose()\n"
   ]
  },
  {
   "cell_type": "code",
   "execution_count": 9,
   "id": "8678aa55",
   "metadata": {},
   "outputs": [],
   "source": [
    "from pyspark.sql.functions import corr"
   ]
  },
  {
   "cell_type": "code",
   "execution_count": 10,
   "id": "dd97c492",
   "metadata": {},
   "outputs": [
    {
     "name": "stdout",
     "output_type": "stream",
     "text": [
      "+------------------+\n",
      "|corr(age, anaemia)|\n",
      "+------------------+\n",
      "|0.0880064413193916|\n",
      "+------------------+\n",
      "\n",
      "+--------------------+\n",
      "| corr(age, diabetes)|\n",
      "+--------------------+\n",
      "|-0.10101238518196966|\n",
      "+--------------------+\n",
      "\n",
      "+--------------------+\n",
      "|  corr(age, smoking)|\n",
      "+--------------------+\n",
      "|0.018667867990770408|\n",
      "+--------------------+\n",
      "\n",
      "+------------------------------+\n",
      "|corr(age, high_blood_pressure)|\n",
      "+------------------------------+\n",
      "|           0.09328868460631876|\n",
      "+------------------------------+\n",
      "\n",
      "+----------------------------+\n",
      "|corr(sex, ejection_fraction)|\n",
      "+----------------------------+\n",
      "|        -0.14838596532635925|\n",
      "+----------------------------+\n",
      "\n",
      "+-----------------------+\n",
      "|corr(sex, serum_sodium)|\n",
      "+-----------------------+\n",
      "|   -0.02756612272823...|\n",
      "+-----------------------+\n",
      "\n"
     ]
    }
   ],
   "source": [
    "df.select(corr('age', 'anaemia')).show()\n",
    "df.select(corr('age', 'diabetes')).show()\n",
    "df.select(corr('age', 'smoking')).show()\n",
    "df.select(corr('age', 'high_blood_pressure')).show()\n",
    "df.select(corr('sex', 'ejection_fraction')).show()\n",
    "df.select(corr('sex', 'serum_sodium')).show()\n"
   ]
  },
  {
   "cell_type": "code",
   "execution_count": 11,
   "id": "90d1c5a9",
   "metadata": {},
   "outputs": [
    {
     "name": "stdout",
     "output_type": "stream",
     "text": [
      "root\n",
      " |-- age: double (nullable = true)\n",
      " |-- anaemia: integer (nullable = true)\n",
      " |-- creatinine_phosphokinase: integer (nullable = true)\n",
      " |-- diabetes: integer (nullable = true)\n",
      " |-- ejection_fraction: integer (nullable = true)\n",
      " |-- high_blood_pressure: integer (nullable = true)\n",
      " |-- platelets: double (nullable = true)\n",
      " |-- serum_creatinine: double (nullable = true)\n",
      " |-- serum_sodium: integer (nullable = true)\n",
      " |-- sex: integer (nullable = true)\n",
      " |-- smoking: integer (nullable = true)\n",
      " |-- time: integer (nullable = true)\n",
      " |-- DEATH_EVENT: integer (nullable = true)\n",
      "\n"
     ]
    }
   ],
   "source": [
    "df = df.select('age', 'anaemia', 'creatinine_phosphokinase', 'diabetes', 'ejection_fraction', \n",
    "'high_blood_pressure', 'platelets', 'serum_creatinine', 'serum_sodium', 'sex', 'smoking',\n",
    "'time', 'DEATH_EVENT')\n",
    "cols = df.columns\n",
    "df.printSchema()"
   ]
  },
  {
   "cell_type": "code",
   "execution_count": 12,
   "id": "2c1ec0a6",
   "metadata": {},
   "outputs": [],
   "source": [
    "from pyspark.ml.feature import OneHotEncoder, StringIndexer, VectorAssembler"
   ]
  },
  {
   "cell_type": "code",
   "execution_count": 13,
   "id": "347719e2",
   "metadata": {},
   "outputs": [
    {
     "data": {
      "text/html": [
       "<div>\n",
       "<style scoped>\n",
       "    .dataframe tbody tr th:only-of-type {\n",
       "        vertical-align: middle;\n",
       "    }\n",
       "\n",
       "    .dataframe tbody tr th {\n",
       "        vertical-align: top;\n",
       "    }\n",
       "\n",
       "    .dataframe thead th {\n",
       "        text-align: right;\n",
       "    }\n",
       "</style>\n",
       "<table border=\"1\" class=\"dataframe\">\n",
       "  <thead>\n",
       "    <tr style=\"text-align: right;\">\n",
       "      <th></th>\n",
       "      <th>0</th>\n",
       "      <th>1</th>\n",
       "      <th>2</th>\n",
       "      <th>3</th>\n",
       "      <th>4</th>\n",
       "    </tr>\n",
       "  </thead>\n",
       "  <tbody>\n",
       "    <tr>\n",
       "      <th>age</th>\n",
       "      <td>75.0</td>\n",
       "      <td>55.00</td>\n",
       "      <td>65.0</td>\n",
       "      <td>50.0</td>\n",
       "      <td>65.0</td>\n",
       "    </tr>\n",
       "    <tr>\n",
       "      <th>anaemia</th>\n",
       "      <td>0.0</td>\n",
       "      <td>0.00</td>\n",
       "      <td>0.0</td>\n",
       "      <td>1.0</td>\n",
       "      <td>1.0</td>\n",
       "    </tr>\n",
       "    <tr>\n",
       "      <th>creatinine_phosphokinase</th>\n",
       "      <td>582.0</td>\n",
       "      <td>7861.00</td>\n",
       "      <td>146.0</td>\n",
       "      <td>111.0</td>\n",
       "      <td>160.0</td>\n",
       "    </tr>\n",
       "    <tr>\n",
       "      <th>diabetes</th>\n",
       "      <td>0.0</td>\n",
       "      <td>0.00</td>\n",
       "      <td>0.0</td>\n",
       "      <td>0.0</td>\n",
       "      <td>1.0</td>\n",
       "    </tr>\n",
       "    <tr>\n",
       "      <th>ejection_fraction</th>\n",
       "      <td>20.0</td>\n",
       "      <td>38.00</td>\n",
       "      <td>20.0</td>\n",
       "      <td>20.0</td>\n",
       "      <td>20.0</td>\n",
       "    </tr>\n",
       "    <tr>\n",
       "      <th>high_blood_pressure</th>\n",
       "      <td>1.0</td>\n",
       "      <td>0.00</td>\n",
       "      <td>0.0</td>\n",
       "      <td>0.0</td>\n",
       "      <td>0.0</td>\n",
       "    </tr>\n",
       "    <tr>\n",
       "      <th>platelets</th>\n",
       "      <td>265000.0</td>\n",
       "      <td>263358.03</td>\n",
       "      <td>162000.0</td>\n",
       "      <td>210000.0</td>\n",
       "      <td>327000.0</td>\n",
       "    </tr>\n",
       "    <tr>\n",
       "      <th>serum_creatinine</th>\n",
       "      <td>1.9</td>\n",
       "      <td>1.10</td>\n",
       "      <td>1.3</td>\n",
       "      <td>1.9</td>\n",
       "      <td>2.7</td>\n",
       "    </tr>\n",
       "    <tr>\n",
       "      <th>serum_sodium</th>\n",
       "      <td>130.0</td>\n",
       "      <td>136.00</td>\n",
       "      <td>129.0</td>\n",
       "      <td>137.0</td>\n",
       "      <td>116.0</td>\n",
       "    </tr>\n",
       "    <tr>\n",
       "      <th>sex</th>\n",
       "      <td>1.0</td>\n",
       "      <td>1.00</td>\n",
       "      <td>1.0</td>\n",
       "      <td>1.0</td>\n",
       "      <td>0.0</td>\n",
       "    </tr>\n",
       "    <tr>\n",
       "      <th>smoking</th>\n",
       "      <td>0.0</td>\n",
       "      <td>0.00</td>\n",
       "      <td>1.0</td>\n",
       "      <td>0.0</td>\n",
       "      <td>0.0</td>\n",
       "    </tr>\n",
       "    <tr>\n",
       "      <th>time</th>\n",
       "      <td>4.0</td>\n",
       "      <td>6.00</td>\n",
       "      <td>7.0</td>\n",
       "      <td>7.0</td>\n",
       "      <td>8.0</td>\n",
       "    </tr>\n",
       "    <tr>\n",
       "      <th>DEATH_EVENT</th>\n",
       "      <td>1.0</td>\n",
       "      <td>1.00</td>\n",
       "      <td>1.0</td>\n",
       "      <td>1.0</td>\n",
       "      <td>1.0</td>\n",
       "    </tr>\n",
       "  </tbody>\n",
       "</table>\n",
       "</div>"
      ],
      "text/plain": [
       "                                 0          1         2         3         4\n",
       "age                           75.0      55.00      65.0      50.0      65.0\n",
       "anaemia                        0.0       0.00       0.0       1.0       1.0\n",
       "creatinine_phosphokinase     582.0    7861.00     146.0     111.0     160.0\n",
       "diabetes                       0.0       0.00       0.0       0.0       1.0\n",
       "ejection_fraction             20.0      38.00      20.0      20.0      20.0\n",
       "high_blood_pressure            1.0       0.00       0.0       0.0       0.0\n",
       "platelets                 265000.0  263358.03  162000.0  210000.0  327000.0\n",
       "serum_creatinine               1.9       1.10       1.3       1.9       2.7\n",
       "serum_sodium                 130.0     136.00     129.0     137.0     116.0\n",
       "sex                            1.0       1.00       1.0       1.0       0.0\n",
       "smoking                        0.0       0.00       1.0       0.0       0.0\n",
       "time                           4.0       6.00       7.0       7.0       8.0\n",
       "DEATH_EVENT                    1.0       1.00       1.0       1.0       1.0"
      ]
     },
     "execution_count": 13,
     "metadata": {},
     "output_type": "execute_result"
    }
   ],
   "source": [
    "pd.DataFrame(df.take(5), columns = df.columns) .transpose()"
   ]
  },
  {
   "cell_type": "code",
   "execution_count": 14,
   "id": "b7aa78cf",
   "metadata": {},
   "outputs": [],
   "source": [
    "anemiaVec = OneHotEncoder(inputCol='anaemia', outputCol='anaemiaVec')\n",
    "diabetesVec = OneHotEncoder(inputCol='diabetes', outputCol='diabetesVec')\n",
    "high_blood_pressureVec = OneHotEncoder(inputCol='high_blood_pressure', outputCol='high_blood_pressureVec')\n",
    "sexVec = OneHotEncoder(inputCol='sex', outputCol='sexVec')\n",
    "smokingVec = OneHotEncoder(inputCol='smoking', outputCol='smokingVec')\n"
   ]
  },
  {
   "cell_type": "code",
   "execution_count": 15,
   "id": "c32dd7f4",
   "metadata": {},
   "outputs": [],
   "source": [
    "label_stringIdx = StringIndexer(inputCol = 'DEATH_EVENT', outputCol = 'label')"
   ]
  },
  {
   "cell_type": "code",
   "execution_count": 16,
   "id": "178735d9",
   "metadata": {},
   "outputs": [],
   "source": [
    "assembler = VectorAssembler(inputCols=['anaemiaVec',\n",
    "                                      'diabetesVec',\n",
    "                                      'high_blood_pressureVec',\n",
    "                                      'sexVec',\n",
    "                                      'smokingVec',\n",
    "                                      'age',\n",
    "                                      'creatinine_phosphokinase',\n",
    "                                      'ejection_fraction','platelets',\n",
    "                                       'serum_creatinine','time'\n",
    "                                      ], outputCol='features')"
   ]
  },
  {
   "cell_type": "code",
   "execution_count": 17,
   "id": "22480bf1",
   "metadata": {},
   "outputs": [],
   "source": [
    "from pyspark.ml import Pipeline"
   ]
  },
  {
   "cell_type": "code",
   "execution_count": 18,
   "id": "31035a1c",
   "metadata": {},
   "outputs": [],
   "source": [
    "from pyspark.ml.classification import LogisticRegression"
   ]
  },
  {
   "cell_type": "code",
   "execution_count": 19,
   "id": "089e38a0",
   "metadata": {},
   "outputs": [],
   "source": [
    "pipeline = Pipeline(stages=[anemiaVec,diabetesVec,\n",
    "                            high_blood_pressureVec, \n",
    "                            sexVec,smokingVec,assembler,\n",
    "                            label_stringIdx])"
   ]
  },
  {
   "cell_type": "code",
   "execution_count": 20,
   "id": "b085e262",
   "metadata": {},
   "outputs": [
    {
     "name": "stderr",
     "output_type": "stream",
     "text": [
      "                                                                                \r"
     ]
    }
   ],
   "source": [
    "pipelineModel = pipeline.fit(df)"
   ]
  },
  {
   "cell_type": "code",
   "execution_count": 21,
   "id": "c972d886",
   "metadata": {},
   "outputs": [],
   "source": [
    "df = pipelineModel.transform(df)"
   ]
  },
  {
   "cell_type": "code",
   "execution_count": 22,
   "id": "44df6be3",
   "metadata": {},
   "outputs": [],
   "source": [
    "selectedCols = ['label', 'features']+cols"
   ]
  },
  {
   "cell_type": "code",
   "execution_count": 23,
   "id": "6221e288",
   "metadata": {},
   "outputs": [],
   "source": [
    "df = df.select(selectedCols)"
   ]
  },
  {
   "cell_type": "code",
   "execution_count": 24,
   "id": "f2f66afd",
   "metadata": {},
   "outputs": [
    {
     "name": "stdout",
     "output_type": "stream",
     "text": [
      "root\n",
      " |-- label: double (nullable = false)\n",
      " |-- features: vector (nullable = true)\n",
      " |-- age: double (nullable = true)\n",
      " |-- anaemia: integer (nullable = true)\n",
      " |-- creatinine_phosphokinase: integer (nullable = true)\n",
      " |-- diabetes: integer (nullable = true)\n",
      " |-- ejection_fraction: integer (nullable = true)\n",
      " |-- high_blood_pressure: integer (nullable = true)\n",
      " |-- platelets: double (nullable = true)\n",
      " |-- serum_creatinine: double (nullable = true)\n",
      " |-- serum_sodium: integer (nullable = true)\n",
      " |-- sex: integer (nullable = true)\n",
      " |-- smoking: integer (nullable = true)\n",
      " |-- time: integer (nullable = true)\n",
      " |-- DEATH_EVENT: integer (nullable = true)\n",
      "\n"
     ]
    }
   ],
   "source": [
    "df.printSchema()"
   ]
  },
  {
   "cell_type": "code",
   "execution_count": 25,
   "id": "e25f589b",
   "metadata": {},
   "outputs": [
    {
     "data": {
      "text/html": [
       "<div>\n",
       "<style scoped>\n",
       "    .dataframe tbody tr th:only-of-type {\n",
       "        vertical-align: middle;\n",
       "    }\n",
       "\n",
       "    .dataframe tbody tr th {\n",
       "        vertical-align: top;\n",
       "    }\n",
       "\n",
       "    .dataframe thead th {\n",
       "        text-align: right;\n",
       "    }\n",
       "</style>\n",
       "<table border=\"1\" class=\"dataframe\">\n",
       "  <thead>\n",
       "    <tr style=\"text-align: right;\">\n",
       "      <th></th>\n",
       "      <th>0</th>\n",
       "      <th>1</th>\n",
       "      <th>2</th>\n",
       "      <th>3</th>\n",
       "      <th>4</th>\n",
       "    </tr>\n",
       "  </thead>\n",
       "  <tbody>\n",
       "    <tr>\n",
       "      <th>label</th>\n",
       "      <td>1.0</td>\n",
       "      <td>1.0</td>\n",
       "      <td>1.0</td>\n",
       "      <td>1.0</td>\n",
       "      <td>1.0</td>\n",
       "    </tr>\n",
       "    <tr>\n",
       "      <th>features</th>\n",
       "      <td>[1.0, 1.0, 0.0, 0.0, 1.0, 75.0, 582.0, 20.0, 2...</td>\n",
       "      <td>[1.0, 1.0, 1.0, 0.0, 1.0, 55.0, 7861.0, 38.0, ...</td>\n",
       "      <td>[1.0, 1.0, 1.0, 0.0, 0.0, 65.0, 146.0, 20.0, 1...</td>\n",
       "      <td>[0.0, 1.0, 1.0, 0.0, 1.0, 50.0, 111.0, 20.0, 2...</td>\n",
       "      <td>[0.0, 0.0, 1.0, 1.0, 1.0, 65.0, 160.0, 20.0, 3...</td>\n",
       "    </tr>\n",
       "    <tr>\n",
       "      <th>age</th>\n",
       "      <td>75.0</td>\n",
       "      <td>55.0</td>\n",
       "      <td>65.0</td>\n",
       "      <td>50.0</td>\n",
       "      <td>65.0</td>\n",
       "    </tr>\n",
       "    <tr>\n",
       "      <th>anaemia</th>\n",
       "      <td>0</td>\n",
       "      <td>0</td>\n",
       "      <td>0</td>\n",
       "      <td>1</td>\n",
       "      <td>1</td>\n",
       "    </tr>\n",
       "    <tr>\n",
       "      <th>creatinine_phosphokinase</th>\n",
       "      <td>582</td>\n",
       "      <td>7861</td>\n",
       "      <td>146</td>\n",
       "      <td>111</td>\n",
       "      <td>160</td>\n",
       "    </tr>\n",
       "    <tr>\n",
       "      <th>diabetes</th>\n",
       "      <td>0</td>\n",
       "      <td>0</td>\n",
       "      <td>0</td>\n",
       "      <td>0</td>\n",
       "      <td>1</td>\n",
       "    </tr>\n",
       "    <tr>\n",
       "      <th>ejection_fraction</th>\n",
       "      <td>20</td>\n",
       "      <td>38</td>\n",
       "      <td>20</td>\n",
       "      <td>20</td>\n",
       "      <td>20</td>\n",
       "    </tr>\n",
       "    <tr>\n",
       "      <th>high_blood_pressure</th>\n",
       "      <td>1</td>\n",
       "      <td>0</td>\n",
       "      <td>0</td>\n",
       "      <td>0</td>\n",
       "      <td>0</td>\n",
       "    </tr>\n",
       "    <tr>\n",
       "      <th>platelets</th>\n",
       "      <td>265000.0</td>\n",
       "      <td>263358.03</td>\n",
       "      <td>162000.0</td>\n",
       "      <td>210000.0</td>\n",
       "      <td>327000.0</td>\n",
       "    </tr>\n",
       "    <tr>\n",
       "      <th>serum_creatinine</th>\n",
       "      <td>1.9</td>\n",
       "      <td>1.1</td>\n",
       "      <td>1.3</td>\n",
       "      <td>1.9</td>\n",
       "      <td>2.7</td>\n",
       "    </tr>\n",
       "    <tr>\n",
       "      <th>serum_sodium</th>\n",
       "      <td>130</td>\n",
       "      <td>136</td>\n",
       "      <td>129</td>\n",
       "      <td>137</td>\n",
       "      <td>116</td>\n",
       "    </tr>\n",
       "    <tr>\n",
       "      <th>sex</th>\n",
       "      <td>1</td>\n",
       "      <td>1</td>\n",
       "      <td>1</td>\n",
       "      <td>1</td>\n",
       "      <td>0</td>\n",
       "    </tr>\n",
       "    <tr>\n",
       "      <th>smoking</th>\n",
       "      <td>0</td>\n",
       "      <td>0</td>\n",
       "      <td>1</td>\n",
       "      <td>0</td>\n",
       "      <td>0</td>\n",
       "    </tr>\n",
       "    <tr>\n",
       "      <th>time</th>\n",
       "      <td>4</td>\n",
       "      <td>6</td>\n",
       "      <td>7</td>\n",
       "      <td>7</td>\n",
       "      <td>8</td>\n",
       "    </tr>\n",
       "    <tr>\n",
       "      <th>DEATH_EVENT</th>\n",
       "      <td>1</td>\n",
       "      <td>1</td>\n",
       "      <td>1</td>\n",
       "      <td>1</td>\n",
       "      <td>1</td>\n",
       "    </tr>\n",
       "  </tbody>\n",
       "</table>\n",
       "</div>"
      ],
      "text/plain": [
       "                                                                          0  \\\n",
       "label                                                                   1.0   \n",
       "features                  [1.0, 1.0, 0.0, 0.0, 1.0, 75.0, 582.0, 20.0, 2...   \n",
       "age                                                                    75.0   \n",
       "anaemia                                                                   0   \n",
       "creatinine_phosphokinase                                                582   \n",
       "diabetes                                                                  0   \n",
       "ejection_fraction                                                        20   \n",
       "high_blood_pressure                                                       1   \n",
       "platelets                                                          265000.0   \n",
       "serum_creatinine                                                        1.9   \n",
       "serum_sodium                                                            130   \n",
       "sex                                                                       1   \n",
       "smoking                                                                   0   \n",
       "time                                                                      4   \n",
       "DEATH_EVENT                                                               1   \n",
       "\n",
       "                                                                          1  \\\n",
       "label                                                                   1.0   \n",
       "features                  [1.0, 1.0, 1.0, 0.0, 1.0, 55.0, 7861.0, 38.0, ...   \n",
       "age                                                                    55.0   \n",
       "anaemia                                                                   0   \n",
       "creatinine_phosphokinase                                               7861   \n",
       "diabetes                                                                  0   \n",
       "ejection_fraction                                                        38   \n",
       "high_blood_pressure                                                       0   \n",
       "platelets                                                         263358.03   \n",
       "serum_creatinine                                                        1.1   \n",
       "serum_sodium                                                            136   \n",
       "sex                                                                       1   \n",
       "smoking                                                                   0   \n",
       "time                                                                      6   \n",
       "DEATH_EVENT                                                               1   \n",
       "\n",
       "                                                                          2  \\\n",
       "label                                                                   1.0   \n",
       "features                  [1.0, 1.0, 1.0, 0.0, 0.0, 65.0, 146.0, 20.0, 1...   \n",
       "age                                                                    65.0   \n",
       "anaemia                                                                   0   \n",
       "creatinine_phosphokinase                                                146   \n",
       "diabetes                                                                  0   \n",
       "ejection_fraction                                                        20   \n",
       "high_blood_pressure                                                       0   \n",
       "platelets                                                          162000.0   \n",
       "serum_creatinine                                                        1.3   \n",
       "serum_sodium                                                            129   \n",
       "sex                                                                       1   \n",
       "smoking                                                                   1   \n",
       "time                                                                      7   \n",
       "DEATH_EVENT                                                               1   \n",
       "\n",
       "                                                                          3  \\\n",
       "label                                                                   1.0   \n",
       "features                  [0.0, 1.0, 1.0, 0.0, 1.0, 50.0, 111.0, 20.0, 2...   \n",
       "age                                                                    50.0   \n",
       "anaemia                                                                   1   \n",
       "creatinine_phosphokinase                                                111   \n",
       "diabetes                                                                  0   \n",
       "ejection_fraction                                                        20   \n",
       "high_blood_pressure                                                       0   \n",
       "platelets                                                          210000.0   \n",
       "serum_creatinine                                                        1.9   \n",
       "serum_sodium                                                            137   \n",
       "sex                                                                       1   \n",
       "smoking                                                                   0   \n",
       "time                                                                      7   \n",
       "DEATH_EVENT                                                               1   \n",
       "\n",
       "                                                                          4  \n",
       "label                                                                   1.0  \n",
       "features                  [0.0, 0.0, 1.0, 1.0, 1.0, 65.0, 160.0, 20.0, 3...  \n",
       "age                                                                    65.0  \n",
       "anaemia                                                                   1  \n",
       "creatinine_phosphokinase                                                160  \n",
       "diabetes                                                                  1  \n",
       "ejection_fraction                                                        20  \n",
       "high_blood_pressure                                                       0  \n",
       "platelets                                                          327000.0  \n",
       "serum_creatinine                                                        2.7  \n",
       "serum_sodium                                                            116  \n",
       "sex                                                                       0  \n",
       "smoking                                                                   0  \n",
       "time                                                                      8  \n",
       "DEATH_EVENT                                                               1  "
      ]
     },
     "execution_count": 25,
     "metadata": {},
     "output_type": "execute_result"
    }
   ],
   "source": [
    "pd.DataFrame(df.take(5), columns=df.columns).transpose()"
   ]
  },
  {
   "cell_type": "code",
   "execution_count": 26,
   "id": "0e676f11",
   "metadata": {},
   "outputs": [
    {
     "name": "stdout",
     "output_type": "stream",
     "text": [
      "Training Dataset Count: 205\n",
      "Test Dataset Count: 94\n"
     ]
    }
   ],
   "source": [
    "train, test = df.randomSplit([0.7, 0.3], seed = 2018)\n",
    "print(\"Training Dataset Count: \" + str(train.count()))\n",
    "print(\"Test Dataset Count: \" + str(test.count()))\n"
   ]
  },
  {
   "cell_type": "code",
   "execution_count": 27,
   "id": "571fa95e",
   "metadata": {},
   "outputs": [
    {
     "data": {
      "text/plain": [
       "DataFrame[label: double, features: vector, age: double, anaemia: int, creatinine_phosphokinase: int, diabetes: int, ejection_fraction: int, high_blood_pressure: int, platelets: double, serum_creatinine: double, serum_sodium: int, sex: int, smoking: int, time: int, DEATH_EVENT: int]"
      ]
     },
     "execution_count": 27,
     "metadata": {},
     "output_type": "execute_result"
    }
   ],
   "source": [
    "#Logistic Regresion Model\n",
    "train"
   ]
  },
  {
   "cell_type": "code",
   "execution_count": 28,
   "id": "7b22d3ce",
   "metadata": {},
   "outputs": [],
   "source": [
    "from pyspark.ml.classification import LogisticRegression"
   ]
  },
  {
   "cell_type": "code",
   "execution_count": 29,
   "id": "7b0360d8",
   "metadata": {},
   "outputs": [],
   "source": [
    "lr = LogisticRegression(featuresCol = 'features', labelCol = 'label', maxIter=10)"
   ]
  },
  {
   "cell_type": "code",
   "execution_count": 30,
   "id": "cf392921",
   "metadata": {},
   "outputs": [
    {
     "name": "stderr",
     "output_type": "stream",
     "text": [
      "21/12/06 19:28:22 WARN BLAS: Failed to load implementation from: com.github.fommil.netlib.NativeSystemBLAS\n",
      "21/12/06 19:28:22 WARN BLAS: Failed to load implementation from: com.github.fommil.netlib.NativeRefBLAS\n"
     ]
    }
   ],
   "source": [
    "lrModel = lr.fit(train)\n"
   ]
  },
  {
   "cell_type": "code",
   "execution_count": 31,
   "id": "886f4f2d",
   "metadata": {},
   "outputs": [],
   "source": [
    "import matplotlib.pyplot as plt\n",
    "import numpy as np\n"
   ]
  },
  {
   "cell_type": "code",
   "execution_count": 32,
   "id": "5c89c4e6",
   "metadata": {},
   "outputs": [],
   "source": [
    "beta = np.sort(lrModel.coefficients)"
   ]
  },
  {
   "cell_type": "code",
   "execution_count": 33,
   "id": "422cc785",
   "metadata": {},
   "outputs": [
    {
     "data": {
      "image/png": "[encoded data removed]",
      "text/plain": [
       "<Figure size 432x288 with 1 Axes>"
      ]
     },
     "metadata": {
      "needs_background": "light"
     },
     "output_type": "display_data"
    }
   ],
   "source": [
    "plt.plot(beta)\n",
    "plt.ylabel('Beta Coefficients')\n",
    "plt.show()"
   ]
  },
  {
   "cell_type": "code",
   "execution_count": 34,
   "id": "4b49ade8",
   "metadata": {},
   "outputs": [],
   "source": [
    "#ROC curve"
   ]
  },
  {
   "cell_type": "code",
   "execution_count": 35,
   "id": "dab2cd0b",
   "metadata": {},
   "outputs": [],
   "source": [
    "trainingSummary = lrModel.summary\n"
   ]
  },
  {
   "cell_type": "code",
   "execution_count": 36,
   "id": "1d8c237c",
   "metadata": {},
   "outputs": [
    {
     "data": {
      "image/png": "[encoded data removed]",
      "text/plain": [
       "<Figure size 432x288 with 1 Axes>"
      ]
     },
     "metadata": {
      "needs_background": "light"
     },
     "output_type": "display_data"
    },
    {
     "name": "stdout",
     "output_type": "stream",
     "text": [
      "Training set areaUnderROC: 0.900370612600828\n"
     ]
    }
   ],
   "source": [
    "roc = trainingSummary.roc.toPandas()\n",
    "plt.plot(roc['FPR'],roc['TPR'])\n",
    "plt.ylabel('False Positive Rate')\n",
    "plt.xlabel('True Positive Rate')\n",
    "plt.title('ROC Curve')\n",
    "plt.show()\n",
    "print('Training set areaUnderROC: ' + str(trainingSummary.areaUnderROC))\n"
   ]
  },
  {
   "cell_type": "code",
   "execution_count": 37,
   "id": "8de11c8a",
   "metadata": {},
   "outputs": [],
   "source": [
    "#Precision y Reacall"
   ]
  },
  {
   "cell_type": "code",
   "execution_count": 38,
   "id": "ce4a41b0",
   "metadata": {},
   "outputs": [
    {
     "data": {
      "image/png": "[encoded data removed]",
      "text/plain": [
       "<Figure size 432x288 with 1 Axes>"
      ]
     },
     "metadata": {
      "needs_background": "light"
     },
     "output_type": "display_data"
    }
   ],
   "source": [
    "pr = trainingSummary.pr.toPandas()\n",
    "plt.plot(pr['recall'],pr['precision'])\n",
    "plt.ylabel('Precision')\n",
    "plt.xlabel('Recall')\n",
    "plt.show()"
   ]
  },
  {
   "cell_type": "code",
   "execution_count": 39,
   "id": "6a0fde49",
   "metadata": {},
   "outputs": [],
   "source": [
    "#hacer predicciones"
   ]
  },
  {
   "cell_type": "code",
   "execution_count": 40,
   "id": "e76dce3e",
   "metadata": {},
   "outputs": [
    {
     "name": "stdout",
     "output_type": "stream",
     "text": [
      "+------+---+-----+--------------------+----------+--------------------+\n",
      "|   age|sex|label|       rawPrediction|prediction|         probability|\n",
      "+------+---+-----+--------------------+----------+--------------------+\n",
      "|  52.0|  1|  0.0|[4.00346949088294...|       0.0|[0.98207496826377...|\n",
      "|60.667|  0|  0.0|[2.97006215726207...|       0.0|[0.95120316215534...|\n",
      "|  51.0|  1|  0.0|[1.81687946714752...|       0.0|[0.86019126637456...|\n",
      "|  60.0|  1|  0.0|[3.94249338684036...|       0.0|[0.98096940616800...|\n",
      "|  45.0|  1|  0.0|[0.99521832751170...|       0.0|[0.73011740670076...|\n",
      "|  55.0|  1|  0.0|[4.96196795457208...|       0.0|[0.99304950719388...|\n",
      "|  61.0|  1|  0.0|[3.57953979127000...|       0.0|[0.97286813789870...|\n",
      "|  60.0|  0|  0.0|[2.35219431390432...|       0.0|[0.91310848534455...|\n",
      "|  65.0|  0|  0.0|[2.22107089842069...|       0.0|[0.90212579124293...|\n",
      "|  65.0|  0|  0.0|[3.05967285719216...|       0.0|[0.95519829911915...|\n",
      "+------+---+-----+--------------------+----------+--------------------+\n",
      "only showing top 10 rows\n",
      "\n"
     ]
    },
    {
     "name": "stderr",
     "output_type": "stream",
     "text": [
      "                                                                                \r"
     ]
    },
    {
     "data": {
      "text/plain": [
       "DataFrame[summary: string, label: string, age: string, anaemia: string, creatinine_phosphokinase: string, diabetes: string, ejection_fraction: string, high_blood_pressure: string, platelets: string, serum_creatinine: string, serum_sodium: string, sex: string, smoking: string, time: string, DEATH_EVENT: string, prediction: string]"
      ]
     },
     "execution_count": 40,
     "metadata": {},
     "output_type": "execute_result"
    }
   ],
   "source": [
    "predictions = lrModel.transform(test)\n",
    "predictions.select('age', 'sex', 'label', 'rawPrediction', 'prediction', 'probability').show(10)\n",
    "predictions.describe()"
   ]
  },
  {
   "cell_type": "code",
   "execution_count": 41,
   "id": "a4858535",
   "metadata": {},
   "outputs": [],
   "source": [
    "#Evaluar modelo de Regresion lineal\n",
    "from pyspark.ml.evaluation import BinaryClassificationEvaluator"
   ]
  },
  {
   "cell_type": "code",
   "execution_count": 42,
   "id": "1b8d2475",
   "metadata": {},
   "outputs": [
    {
     "name": "stdout",
     "output_type": "stream",
     "text": [
      "Test Area Under ROC 0.8807291666666667\n"
     ]
    }
   ],
   "source": [
    "evaluator = BinaryClassificationEvaluator()\n",
    "print('Test Area Under ROC', evaluator.evaluate(predictions))"
   ]
  },
  {
   "cell_type": "code",
   "execution_count": 43,
   "id": "0bb7dc65",
   "metadata": {},
   "outputs": [],
   "source": [
    "#Gradient-Boosted Tree Classifier"
   ]
  },
  {
   "cell_type": "code",
   "execution_count": 44,
   "id": "18765ce7",
   "metadata": {},
   "outputs": [],
   "source": [
    "from pyspark.ml.classification import GBTClassifier"
   ]
  },
  {
   "cell_type": "code",
   "execution_count": 45,
   "id": "01547b27",
   "metadata": {},
   "outputs": [
    {
     "name": "stderr",
     "output_type": "stream",
     "text": [
      "\r",
      "[Stage 75:>                                                         (0 + 1) / 1]\r",
      "\r",
      "                                                                                \r"
     ]
    },
    {
     "name": "stdout",
     "output_type": "stream",
     "text": [
      "+------+---+-----+--------------------+----------+--------------------+\n",
      "|   age|sex|label|       rawPrediction|prediction|         probability|\n",
      "+------+---+-----+--------------------+----------+--------------------+\n",
      "|  52.0|  1|  0.0|[1.28779541937372...|       0.0|[0.92927403016611...|\n",
      "|60.667|  0|  0.0|[0.67494220494885...|       0.0|[0.79411072998945...|\n",
      "|  51.0|  1|  0.0|[1.33173294712193...|       0.0|[0.93483611882667...|\n",
      "|  60.0|  1|  0.0|[1.22087688219462...|       0.0|[0.91995632437433...|\n",
      "|  45.0|  1|  0.0|[1.39830184481046...|       0.0|[0.94249201772143...|\n",
      "|  55.0|  1|  0.0|[1.28986669382198...|       0.0|[0.92954581055773...|\n",
      "|  61.0|  1|  0.0|[1.32436551137136...|       0.0|[0.93393273469173...|\n",
      "|  60.0|  0|  0.0|[1.31697015142938...|       0.0|[0.93301423368903...|\n",
      "|  65.0|  0|  0.0|[1.32098529122783...|       0.0|[0.93351437372379...|\n",
      "|  65.0|  0|  0.0|[1.31697015142938...|       0.0|[0.93301423368903...|\n",
      "|  53.0|  1|  0.0|[1.33713823978417...|       0.0|[0.93549158557284...|\n",
      "|  53.0|  1|  0.0|[1.31697015142938...|       0.0|[0.93301423368903...|\n",
      "|  58.0|  1|  0.0|[1.31514103682714...|       0.0|[0.93278523672591...|\n",
      "|  65.0|  1|  0.0|[1.26468266675185...|       0.0|[0.92617496987824...|\n",
      "|  61.0|  0|  0.0|[1.16856821982304...|       0.0|[0.91190631741745...|\n",
      "|  60.0|  1|  0.0|[-0.8585047458413...|       1.0|[0.15225676115924...|\n",
      "|  78.0|  1|  0.0|[0.76427701960375...|       0.0|[0.82179465438054...|\n",
      "|  63.0|  1|  0.0|[-0.7065781570689...|       1.0|[0.19573670003686...|\n",
      "|  65.0|  1|  0.0|[0.36600827153250...|       0.0|[0.67524763299442...|\n",
      "|  46.0|  0|  0.0|[0.16771918705750...|       0.0|[0.58308202567844...|\n",
      "|  49.0|  0|  0.0|[1.31557999856559...|       0.0|[0.93284025893112...|\n",
      "|  52.0|  0|  0.0|[1.36088375570251...|       0.0|[0.93829894141717...|\n",
      "|  62.0|  1|  0.0|[1.30081720287303...|       0.0|[0.93096669318600...|\n",
      "|  44.0|  1|  0.0|[1.32989705871564...|       0.0|[0.93461208573569...|\n",
      "|  45.0|  1|  0.0|[1.33260165410756...|       0.0|[0.93494187790216...|\n",
      "|  72.0|  1|  0.0|[-1.4091290579684...|       1.0|[0.05634547916699...|\n",
      "|  45.0|  0|  0.0|[1.31697015142938...|       0.0|[0.93301423368903...|\n",
      "|  49.0|  0|  0.0|[1.31697015142938...|       0.0|[0.93301423368903...|\n",
      "|  65.0|  1|  0.0|[0.77458113818704...|       0.0|[0.82479270558412...|\n",
      "|  65.0|  1|  0.0|[1.24442519069295...|       0.0|[0.92335648454490...|\n",
      "|  70.0|  1|  0.0|[1.13191304028605...|       0.0|[0.90583649039773...|\n",
      "|  42.0|  1|  0.0|[1.27565435559128...|       0.0|[0.92766138583728...|\n",
      "|  53.0|  1|  0.0|[-0.2563313149732...|       1.0|[0.37456955063975...|\n",
      "|  61.0|  1|  0.0|[1.29342184293105...|       0.0|[0.93001004698203...|\n",
      "|  70.0|  1|  0.0|[1.15977600862544...|       0.0|[0.91048343528549...|\n",
      "|  45.0|  0|  0.0|[1.31697015142938...|       0.0|[0.93301423368903...|\n",
      "|  45.0|  0|  0.0|[1.33260165410756...|       0.0|[0.93494187790216...|\n",
      "|  50.0|  0|  0.0|[1.35141712131227...|       0.0|[0.93719367910872...|\n",
      "|  53.0|  0|  0.0|[1.31697015142938...|       0.0|[0.93301423368903...|\n",
      "|  75.0|  0|  0.0|[0.75688165966177...|       0.0|[0.81961826104077...|\n",
      "|  50.0|  1|  0.0|[1.12556173277029...|       0.0|[0.90474739888355...|\n",
      "|  60.0|  1|  0.0|[1.23754287457084...|       0.0|[0.92237667712800...|\n",
      "|  50.0|  1|  0.0|[1.31697015142938...|       0.0|[0.93301423368903...|\n",
      "|  60.0|  1|  0.0|[1.35348839576052...|       0.0|[0.93743707536293...|\n",
      "|  75.0|  1|  0.0|[0.76427701960375...|       0.0|[0.82179465438054...|\n",
      "|  70.0|  0|  0.0|[0.80279268791712...|       0.0|[0.83279757145414...|\n",
      "|  40.0|  0|  0.0|[1.31697015142938...|       0.0|[0.93301423368903...|\n",
      "|  50.0|  0|  0.0|[1.19597916090561...|       0.0|[0.91621202625534...|\n",
      "|  70.0|  0|  0.0|[0.91986797111209...|       0.0|[0.86291747478411...|\n",
      "|  70.0|  0|  0.0|[1.19356150646135...|       0.0|[0.91584008362738...|\n",
      "+------+---+-----+--------------------+----------+--------------------+\n",
      "only showing top 50 rows\n",
      "\n"
     ]
    }
   ],
   "source": [
    "gbt = GBTClassifier(maxIter=10)\n",
    "gbtModel = gbt.fit(train)\n",
    "predictions = gbtModel.transform(test)\n",
    "predictions.select('age', 'sex', 'label', 'rawPrediction', 'prediction', 'probability').show(50)\n"
   ]
  },
  {
   "cell_type": "code",
   "execution_count": 46,
   "id": "a9110fca",
   "metadata": {},
   "outputs": [
    {
     "name": "stdout",
     "output_type": "stream",
     "text": [
      "+---+----+----------+--------------------+\n",
      "|sex|time|prediction|         probability|\n",
      "+---+----+----------+--------------------+\n",
      "|  1| 216|       0.0|[0.92927403016611...|\n",
      "|  0| 172|       0.0|[0.79411072998945...|\n",
      "|  1| 145|       0.0|[0.93483611882667...|\n",
      "|  1| 245|       0.0|[0.91995632437433...|\n",
      "|  1|  88|       0.0|[0.94249201772143...|\n",
      "|  1| 250|       0.0|[0.92954581055773...|\n",
      "|  1| 213|       0.0|[0.93393273469173...|\n",
      "|  0| 187|       0.0|[0.93301423368903...|\n",
      "|  0| 107|       0.0|[0.93351437372379...|\n",
      "|  0| 210|       0.0|[0.93301423368903...|\n",
      "+---+----+----------+--------------------+\n",
      "only showing top 10 rows\n",
      "\n"
     ]
    }
   ],
   "source": [
    "predictions.select('sex', 'time','prediction', 'probability').show(10)\n"
   ]
  },
  {
   "cell_type": "code",
   "execution_count": 47,
   "id": "b981545b",
   "metadata": {},
   "outputs": [],
   "source": [
    "#evaluar Gradient Boosted Tree Classifier"
   ]
  },
  {
   "cell_type": "code",
   "execution_count": 48,
   "id": "085d2fba",
   "metadata": {},
   "outputs": [
    {
     "name": "stdout",
     "output_type": "stream",
     "text": [
      "Test Area Under ROC: 0.8742187499999998\n"
     ]
    }
   ],
   "source": [
    "evaluator = BinaryClassificationEvaluator()\n",
    "print(\"Test Area Under ROC: \" + str(evaluator.evaluate(predictions, {evaluator.metricName: \"areaUnderROC\"})))"
   ]
  },
  {
   "cell_type": "code",
   "execution_count": 49,
   "id": "ea4ddff5",
   "metadata": {},
   "outputs": [
    {
     "name": "stdout",
     "output_type": "stream",
     "text": [
      "GBTClassificationModel: uid = GBTClassifier_077303aea20b, numTrees=10, numClasses=2, numFeatures=11\n",
      "*************** Tree Summary ***************\n",
      "No. of classes:  2\n",
      "No. of features:  11\n",
      "--------------------------------------------------------\n"
     ]
    }
   ],
   "source": [
    "\n",
    "print(gbtModel)\n",
    "print('*************** Tree Summary ***************')\n",
    "print('No. of classes: ', gbtModel.numClasses)\n",
    "print('No. of features: ', gbtModel.numFeatures)\n",
    "print('--------------------------------------------------------')"
   ]
  },
  {
   "cell_type": "code",
   "execution_count": 50,
   "id": "2bc4076d",
   "metadata": {},
   "outputs": [
    {
     "name": "stdout",
     "output_type": "stream",
     "text": [
      "cacheNodeIds: If false, the algorithm will pass trees to executors to match instances with nodes. If true, the algorithm will cache node IDs for each instance. Caching can speed up training of deeper trees. Users can set how often should the cache be checkpointed or disable it by setting checkpointInterval. (default: False)\n",
      "checkpointInterval: set checkpoint interval (>= 1) or disable checkpoint (-1). E.g. 10 means that the cache will get checkpointed every 10 iterations. Note: this setting will be ignored if the checkpoint directory is not set in the SparkContext. (default: 10)\n",
      "featureSubsetStrategy: The number of features to consider for splits at each tree node. Supported options: 'auto' (choose automatically for task: If numTrees == 1, set to 'all'. If numTrees > 1 (forest), set to 'sqrt' for classification and to 'onethird' for regression), 'all' (use all features), 'onethird' (use 1/3 of the features), 'sqrt' (use sqrt(number of features)), 'log2' (use log2(number of features)), 'n' (when n is in the range (0, 1.0], use n * number of features. When n is in the range (1, number of features), use n features). default = 'auto' (default: all)\n",
      "featuresCol: features column name. (default: features)\n",
      "impurity: Criterion used for information gain calculation (case-insensitive). Supported options: variance (default: variance)\n",
      "labelCol: label column name. (default: label)\n",
      "leafCol: Leaf indices column name. Predicted leaf index of each instance in each tree by preorder. (default: )\n",
      "lossType: Loss function which GBT tries to minimize (case-insensitive). Supported options: logistic (default: logistic)\n",
      "maxBins: Max number of bins for discretizing continuous features.  Must be >=2 and >= number of categories for any categorical feature. (default: 32)\n",
      "maxDepth: Maximum depth of the tree. (>= 0) E.g., depth 0 means 1 leaf node; depth 1 means 1 internal node + 2 leaf nodes. (default: 5)\n",
      "maxIter: max number of iterations (>= 0). (default: 20, current: 10)\n",
      "maxMemoryInMB: Maximum memory in MB allocated to histogram aggregation. If too small, then 1 node will be split per iteration, and its aggregates may exceed this size. (default: 256)\n",
      "minInfoGain: Minimum information gain for a split to be considered at a tree node. (default: 0.0)\n",
      "minInstancesPerNode: Minimum number of instances each child must have after split. If a split causes the left or right child to have fewer than minInstancesPerNode, the split will be discarded as invalid. Should be >= 1. (default: 1)\n",
      "minWeightFractionPerNode: Minimum fraction of the weighted sample count that each child must have after split. If a split causes the fraction of the total weight in the left or right child to be less than minWeightFractionPerNode, the split will be discarded as invalid. Should be in interval [0.0, 0.5). (default: 0.0)\n",
      "predictionCol: prediction column name. (default: prediction)\n",
      "probabilityCol: Column name for predicted class conditional probabilities. Note: Not all models output well-calibrated probability estimates! These probabilities should be treated as confidences, not precise probabilities. (default: probability)\n",
      "rawPredictionCol: raw prediction (a.k.a. confidence) column name. (default: rawPrediction)\n",
      "seed: random seed. (default: -4396634082657737070)\n",
      "stepSize: Step size (a.k.a. learning rate) in interval (0, 1] for shrinking the contribution of each estimator. (default: 0.1)\n",
      "subsamplingRate: Fraction of the training data used for learning each decision tree, in range (0, 1]. (default: 1.0)\n",
      "thresholds: Thresholds in multi-class classification to adjust the probability of predicting each class. Array must have length equal to the number of classes, with values > 0, excepting that at most one value may be 0. The class with largest value p/t is predicted, where p is the original probability of that class and t is the class's threshold. (undefined)\n",
      "validationIndicatorCol: name of the column that indicates whether each row is for training or for validation. False indicates training; true indicates validation. (undefined)\n",
      "validationTol: Threshold for stopping early when fit with validation is used. If the error rate on the validation input changes by less than the validationTol, then learning will stop early (before `maxIter`). This parameter is ignored when fit without validation is used. (default: 0.01)\n",
      "weightCol: weight column name. If this is not set or empty, we treat all instance weights as 1.0. (undefined)\n"
     ]
    }
   ],
   "source": [
    "print(gbt.explainParams())"
   ]
  },
  {
   "cell_type": "code",
   "execution_count": 51,
   "id": "771e68bc",
   "metadata": {},
   "outputs": [],
   "source": [
    "from pyspark.ml.tuning import ParamGridBuilder, CrossValidator\n",
    "paramGrid = (ParamGridBuilder()\n",
    "             .addGrid(gbt.maxDepth, [2, 4, 6])\n",
    "             .addGrid(gbt.maxBins, [20, 60])\n",
    "             .addGrid(gbt.maxIter, [10, 20])\n",
    "             .build())\n",
    "cv = CrossValidator(estimator=gbt, estimatorParamMaps=paramGrid, evaluator=evaluator, numFolds=5)"
   ]
  },
  {
   "cell_type": "code",
   "execution_count": 52,
   "id": "e1668083",
   "metadata": {},
   "outputs": [],
   "source": [
    "#Ejecutar validaciones cruzadas"
   ]
  },
  {
   "cell_type": "code",
   "execution_count": 53,
   "id": "f257d848",
   "metadata": {},
   "outputs": [
    {
     "data": {
      "text/plain": [
       "0.8955729166666667"
      ]
     },
     "execution_count": 53,
     "metadata": {},
     "output_type": "execute_result"
    }
   ],
   "source": [
    "cvModel = cv.fit(train)\n",
    "predictions2 = cvModel.transform(test)\n",
    "evaluator.evaluate(predictions2)"
   ]
  },
  {
   "cell_type": "code",
   "execution_count": 54,
   "id": "3319af41",
   "metadata": {},
   "outputs": [],
   "source": [
    "#conda install -c https://conda.anaconda.org/plotly plotly\n"
   ]
  },
  {
   "cell_type": "code",
   "execution_count": 55,
   "id": "7d40d2d3",
   "metadata": {},
   "outputs": [],
   "source": [
    "import numpy as np\n",
    "\n",
    "import plotly.express as px\n",
    "import plotly.graph_objects as go\n",
    "# from sklearn.svm import SVR\n",
    "mesh_size = .02\n",
    "margin = 0"
   ]
  },
  {
   "cell_type": "code",
   "execution_count": 56,
   "id": "6a879850",
   "metadata": {},
   "outputs": [
    {
     "name": "stdout",
     "output_type": "stream",
     "text": [
      "+---+------+----------+--------------------+\n",
      "|sex|   age|prediction|         probability|\n",
      "+---+------+----------+--------------------+\n",
      "|  1|  52.0|       0.0|[0.92927403016611...|\n",
      "|  0|60.667|       0.0|[0.79411072998945...|\n",
      "|  1|  51.0|       0.0|[0.93483611882667...|\n",
      "|  1|  60.0|       0.0|[0.91995632437433...|\n",
      "|  1|  45.0|       0.0|[0.94249201772143...|\n",
      "|  1|  55.0|       0.0|[0.92954581055773...|\n",
      "|  1|  61.0|       0.0|[0.93393273469173...|\n",
      "|  0|  60.0|       0.0|[0.93301423368903...|\n",
      "|  0|  65.0|       0.0|[0.93351437372379...|\n",
      "|  0|  65.0|       0.0|[0.93301423368903...|\n",
      "+---+------+----------+--------------------+\n",
      "only showing top 10 rows\n",
      "\n"
     ]
    }
   ],
   "source": [
    "predictions.select('sex','age','prediction', 'probability').show(10)\n"
   ]
  },
  {
   "cell_type": "markdown",
   "id": "bbfafa58",
   "metadata": {},
   "source": [
    "# -------------- Conclusión -------------- \n"
   ]
  },
  {
   "cell_type": "markdown",
   "id": "08bb8628",
   "metadata": {},
   "source": [
    "En primer lugar, debemos saber el motivo de representación para nuestro modelo y el porqué de la información utilizada.\n",
    "Por esa razón se utilizó la información para crear una predicción sobre la insuficiencia cardíaca, ya que es un evento común causado por las enfermedades cardiovasculares.\n",
    "La mayoría de las enfermedades cardiovasculares se pueden prevenir abordando los factores de riesgo conductuales como el consumo de tabaco, la dieta poco saludable y la obesidad, la inactividad física y el consumo nocivo de alcohol utilizando estrategias para toda la población.\n",
    "Las personas con enfermedad cardiovascular o que se encuentran en alto riesgo cardiovascular (debido a la presencia de uno o más factores de riesgo como hipertensión, diabetes, hiperlipidemia o enfermedad ya establecida), por ello con un conjunto de 13 características relacionadas con los puntos anteriores, serán de ayuda para crear nuestro modelo de predicción, probabilidad sobre la mortalidad de insuficiencia cardiaca con nuestro Gradient-boosted-tree-classifier.\n",
    "\n",
    "Se sabe que para crear y trabajar nuestro modelo se debe realizar un análisis de la información brindada, ya que en primer lugar se debe realizar las predicciones con la Regresion Logistica:\n",
    "\n",
    "Las columnas de nuestra información eran las siguientes:\n",
    "\n",
    "•\tage: Edad de la persona                         \n",
    "•\tanaemia: Disminución de glóbulos rojos o hemoglobina (booleano)              \n",
    "•\tcreatinine_phosphokinase: Nivel de la enzima CPK en sangre (mcg / L)\n",
    "•\tdiabetes: Si el paciente tiene diabetes (booleano)                    \n",
    "•\tejection_fraction: Porcentaje de sangre que sale del corazón en cada contracción (porcentaje)        \n",
    "•\thigh_blood_pressure: Si el paciente tiene hipertensión (booleano)        \n",
    "•\tplatelets: Plaquetas en la sangre (kiloplaquetas / mL)                  \n",
    "•\tserum_creatinine: Nivel de creatinina sérica en sangre (mg / dL)        \n",
    "•\tserum_sodium: Nivel de sodio sérico en sangre (mEq / L                \n",
    "•\tsex: Mujer u hombre (binario)                       \n",
    "•\tsmoking: Si el paciente fuma o no (booleano)\n",
    "•\ttime:     Período de seguimiento (días)                  \n",
    "•\tDEATH_EVENT: Si el paciente falleció durante el período\n",
    "de seguimiento (booleano)                 \n",
    "\n",
    "De las 13 columnas de información se utilizaron las 12 sin incluir la DEATH_EVENT, ya que esta es nuestra “label”, con los 12 restantes se creó nuestra columna “features”.\n",
    "\n",
    "Al realizar nuestras columnas correspondientes para nuestra regresión logística, se pudieron visualizar nuestras predicciones para nuestra columna es que las variantes de nuestra label y la predicción son correctas ya que indica si la persona falleció o no, respectivamente de acuerdo a las predicciones.\n",
    "También se puede visualizar que el porcentaje de predicción de nuestra curva de ROC es de 0.900370612600828 lo que equivale al 90.03% de datos predecibles, lo cual es un porcentaje alto para nuestro modelo además sabemos que el porcentaje de datos del área bajo la curva es de 88.07% \n",
    "\n",
    "Las probabilidades establecidas por nuestro modelo con respecto a su Gradient-boosted-tree-classifier se puede visualizar una probabilidad alta con respecto al sexo y edad de la persona, y se supo que, al ser del sexo femenino y mayor de edad, tiene mas probabilidades de padecer insuficiencia cardiaca ya que llega a padecer más enfermedades cardiovasculares, así como también los otros factores que determinar el padecimiento de sufrir esta enfermedad."
   ]
  }
 ],
 "metadata": {
  "kernelspec": {
   "display_name": "Python 3 (ipykernel)",
   "language": "python",
   "name": "python3"
  },
  "language_info": {
   "codemirror_mode": {
    "name": "ipython",
    "version": 3
   },
   "file_extension": ".py",
   "mimetype": "text/x-python",
   "name": "python",
   "nbconvert_exporter": "python",
   "pygments_lexer": "ipython3",
   "version": "3.8.10"
  }
 },
 "nbformat": 4,
 "nbformat_minor": 5
}
